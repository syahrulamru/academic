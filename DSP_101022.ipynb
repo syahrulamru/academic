{
  "nbformat": 4,
  "nbformat_minor": 0,
  "metadata": {
    "colab": {
      "provenance": []
    },
    "kernelspec": {
      "name": "python3",
      "display_name": "Python 3"
    },
    "language_info": {
      "name": "python"
    }
  },
  "cells": [
    {
      "cell_type": "markdown",
      "source": [
        "# Penyelesaian Dekonvolusi Memakai Python\n",
        "\n",
        "Nama: Syahrul Amru\n",
        "\n",
        "NPM: 2006521856"
      ],
      "metadata": {
        "id": "yNIs7xkoGSXq"
      }
    },
    {
      "cell_type": "markdown",
      "source": [
        "Nomor. 1"
      ],
      "metadata": {
        "id": "4enoZPrkAXy2"
      }
    },
    {
      "cell_type": "code",
      "execution_count": null,
      "metadata": {
        "colab": {
          "base_uri": "https://localhost:8080/",
          "height": 1000
        },
        "id": "S6MU4Tj9zTWS",
        "outputId": "1c2c78dc-3178-4ab8-a203-eee1f41cde21"
      },
      "outputs": [
        {
          "output_type": "stream",
          "name": "stderr",
          "text": [
            "/usr/local/lib/python3.7/dist-packages/ipykernel_launcher.py:40: UserWarning: In Matplotlib 3.3 individual lines on a stem plot will be added as a LineCollection instead of individual lines. This significantly improves the performance of a stem plot. To remove this warning and switch to the new behaviour, set the \"use_line_collection\" keyword argument to True.\n"
          ]
        },
        {
          "output_type": "display_data",
          "data": {
            "text/plain": [
              "<Figure size 432x288 with 1 Axes>"
            ],
            "image/png": "[encoded data removed]"
          },
          "metadata": {
            "needs_background": "light"
          }
        },
        {
          "output_type": "stream",
          "name": "stderr",
          "text": [
            "/usr/local/lib/python3.7/dist-packages/ipykernel_launcher.py:40: UserWarning: In Matplotlib 3.3 individual lines on a stem plot will be added as a LineCollection instead of individual lines. This significantly improves the performance of a stem plot. To remove this warning and switch to the new behaviour, set the \"use_line_collection\" keyword argument to True.\n"
          ]
        },
        {
          "output_type": "display_data",
          "data": {
            "text/plain": [
              "<Figure size 432x288 with 1 Axes>"
            ],
            "image/png": "[encoded data removed]"
          },
          "metadata": {
            "needs_background": "light"
          }
        },
        {
          "output_type": "stream",
          "name": "stderr",
          "text": [
            "/usr/local/lib/python3.7/dist-packages/ipykernel_launcher.py:40: UserWarning: In Matplotlib 3.3 individual lines on a stem plot will be added as a LineCollection instead of individual lines. This significantly improves the performance of a stem plot. To remove this warning and switch to the new behaviour, set the \"use_line_collection\" keyword argument to True.\n"
          ]
        },
        {
          "output_type": "stream",
          "name": "stdout",
          "text": [
            "\n",
            "\n",
            "---------------------------------\n",
            "\n",
            "n = 0 -> y(0) = 0 \n",
            "\n",
            "n = 1 -> y(1) = 0 \n",
            "\n",
            "n = 2 -> y(2) = 0 \n",
            "\n",
            "n = 3 -> y(3) = 0 \n",
            "\n",
            "n = 4 -> y(4) = 0 \n",
            "\n",
            "n = 5 -> y(5) = 0 \n",
            "\n",
            "n = 6 -> y(6) = 0 \n",
            "\n",
            "n = 7 -> y(7) = 0 \n",
            "\n",
            "n = 8 -> y(8) = 0 \n",
            "\n",
            "n = 9 -> y(9) = 0 \n",
            "\n",
            "\n",
            "\n",
            "---------------------------------\n",
            "\n"
          ]
        },
        {
          "output_type": "display_data",
          "data": {
            "text/plain": [
              "<Figure size 432x288 with 1 Axes>"
            ],
            "image/png": "[encoded data removed]"
          },
          "metadata": {
            "needs_background": "light"
          }
        }
      ],
      "source": [
        "#!/usr/bin/env python3\n",
        "# -*- coding: utf-8 -*-\n",
        "\"\"\"\n",
        "Created on Thu Nov  3 23:02:11 2022\n",
        "Edited on Thu Nov  10 22:15:00 2022\n",
        "@author: sukarno, edited by syahrul\n",
        "\"\"\"\n",
        "\n",
        "\n",
        "import matplotlib.pyplot as plt\n",
        "import numpy as np\n",
        "\n",
        "def h(n):\n",
        "    \n",
        "    if n >= -5 and n <= 5:\n",
        "        return n\n",
        "    \n",
        "    return 0\n",
        "\n",
        "def x(n):\n",
        "    \n",
        "    if n >= 10 and n <= 20:\n",
        "        return 1\n",
        "    \n",
        "    return 0\n",
        "\n",
        "def y(n,ks) :\n",
        "    \n",
        "    yn = 0\n",
        "    for k in ks:\n",
        "        yn += x(k) * h(n - k)\n",
        "        \n",
        "    return yn\n",
        "    \n",
        "\n",
        "def plot_graph (xs,ys):\n",
        "    \n",
        "    fig, ax = plt.subplots()\n",
        "\n",
        "    ax.stem(xs,ys)\n",
        "    ax.grid()\n",
        "\n",
        "    plt.show()\n",
        "    \n",
        "    \n",
        "if __name__ == '__main__':\n",
        "    \n",
        "    ks = np.arange(-5,6)\n",
        "    \n",
        "    hs =[h(k) for k in ks]\n",
        "    xs = [x(k) for k in ks]\n",
        "    \n",
        "    #Plot\n",
        "    plot_graph(ks, hs)\n",
        "    plot_graph(ks, xs)\n",
        "    \n",
        "    ns = np.arange(0,10)\n",
        "    \n",
        "    print(\"\\n\\n---------------------------------\\n\")\n",
        "    for n in ns:\n",
        "        print(\"n = {0} -> y({1}) = {2} \\n\".format(n,n,y(n,ks)))\n",
        "        \n",
        "    print(\"\\n\\n---------------------------------\\n\")\n",
        "    \n",
        "    ys = [y(n,ks) for n in ns]\n",
        "    \n",
        "    plot_graph(ns, ys)\n",
        "    "
      ]
    },
    {
      "cell_type": "markdown",
      "source": [
        "Nomor. 2"
      ],
      "metadata": {
        "id": "hBXBtJL8AcSY"
      }
    },
    {
      "cell_type": "code",
      "source": [
        "\n",
        "def u(n) :\n",
        "    return 1 if n >=0 else 0\n",
        "\n",
        "def h(n) :\n",
        "    return 2 * np.sin (n * np.pi / 2) * (u(n + 3) - u(n + 4))\n",
        "\n",
        "def x(n):\n",
        "    return 0.5 * n * (u(n) - u(n-6))\n",
        "\n",
        "\n",
        "def y(n,ks) :\n",
        "    \n",
        "    yn = 0\n",
        "    for k in ks:\n",
        "        yn += x(k) * h(n - k)\n",
        "        \n",
        "    return yn\n",
        "\n",
        "def plot_graph (xs,ys):\n",
        "    \n",
        "    fig, ax = plt.subplots()\n",
        "\n",
        "    ax.stem(xs,ys)\n",
        "    ax.grid()\n",
        "\n",
        "    plt.show()\n",
        "    \n",
        "\n",
        "if __name__ == '__main__':\n",
        "    \n",
        "    #Deret k\n",
        "    ks = np.arange(-5,6)\n",
        "    \n",
        "    #hasil h(k)\n",
        "    hs =[h(k) for k in ks]\n",
        "    #hasil x(k)\n",
        "    xs = [x(k) for k in ks]\n",
        "    \n",
        "    #Plot\n",
        "    plot_graph(ks, hs)\n",
        "    plot_graph(ks, xs)\n",
        "    \n",
        "    #Deret n\n",
        "    ns = np.arange(0,10)\n",
        "    \n",
        "    print(\"\\n\\n---------------------------------\\n\")\n",
        "    for n in ns:\n",
        "        print(\"n = {0} -> y({1}) = {2} \\n\".format(n,n,y(n,ks)))\n",
        "        \n",
        "    print(\"\\n\\n---------------------------------\\n\")\n",
        "    \n",
        "    ys = [y(n,ks) for n in ns]\n",
        "    \n",
        "    plot_graph(ns, ys)"
      ],
      "metadata": {
        "colab": {
          "base_uri": "https://localhost:8080/",
          "height": 1000
        },
        "id": "qwqCDb4KAd_-",
        "outputId": "f110059c-3ef6-4317-80bc-68aa279ec95f"
      },
      "execution_count": null,
      "outputs": [
        {
          "output_type": "stream",
          "name": "stderr",
          "text": [
            "/usr/local/lib/python3.7/dist-packages/ipykernel_launcher.py:23: UserWarning: In Matplotlib 3.3 individual lines on a stem plot will be added as a LineCollection instead of individual lines. This significantly improves the performance of a stem plot. To remove this warning and switch to the new behaviour, set the \"use_line_collection\" keyword argument to True.\n"
          ]
        },
        {
          "output_type": "display_data",
          "data": {
            "text/plain": [
              "<Figure size 432x288 with 1 Axes>"
            ],
            "image/png": "[encoded data removed]"
          },
          "metadata": {
            "needs_background": "light"
          }
        },
        {
          "output_type": "stream",
          "name": "stderr",
          "text": [
            "/usr/local/lib/python3.7/dist-packages/ipykernel_launcher.py:23: UserWarning: In Matplotlib 3.3 individual lines on a stem plot will be added as a LineCollection instead of individual lines. This significantly improves the performance of a stem plot. To remove this warning and switch to the new behaviour, set the \"use_line_collection\" keyword argument to True.\n"
          ]
        },
        {
          "output_type": "display_data",
          "data": {
            "text/plain": [
              "<Figure size 432x288 with 1 Axes>"
            ],
            "image/png": "[encoded data removed]"
          },
          "metadata": {
            "needs_background": "light"
          }
        },
        {
          "output_type": "stream",
          "name": "stderr",
          "text": [
            "/usr/local/lib/python3.7/dist-packages/ipykernel_launcher.py:23: UserWarning: In Matplotlib 3.3 individual lines on a stem plot will be added as a LineCollection instead of individual lines. This significantly improves the performance of a stem plot. To remove this warning and switch to the new behaviour, set the \"use_line_collection\" keyword argument to True.\n"
          ]
        },
        {
          "output_type": "stream",
          "name": "stdout",
          "text": [
            "\n",
            "\n",
            "---------------------------------\n",
            "\n",
            "n = 0 -> y(0) = -9.797174393178826e-16 \n",
            "\n",
            "n = 1 -> y(1) = -1.2246467991473533e-15 \n",
            "\n",
            "n = 2 -> y(2) = 0.0 \n",
            "\n",
            "n = 3 -> y(3) = 0.0 \n",
            "\n",
            "n = 4 -> y(4) = 0.0 \n",
            "\n",
            "n = 5 -> y(5) = 0.0 \n",
            "\n",
            "n = 6 -> y(6) = 0.0 \n",
            "\n",
            "n = 7 -> y(7) = 0.0 \n",
            "\n",
            "n = 8 -> y(8) = 0.0 \n",
            "\n",
            "n = 9 -> y(9) = 0.0 \n",
            "\n",
            "\n",
            "\n",
            "---------------------------------\n",
            "\n"
          ]
        },
        {
          "output_type": "display_data",
          "data": {
            "text/plain": [
              "<Figure size 432x288 with 1 Axes>"
            ],
            "image/png": "[encoded data removed]"
          },
          "metadata": {
            "needs_background": "light"
          }
        }
      ]
    },
    {
      "cell_type": "markdown",
      "source": [
        "Nomor 3."
      ],
      "metadata": {
        "id": "4j_X01kHFQ1M"
      }
    },
    {
      "cell_type": "code",
      "source": [],
      "metadata": {
        "id": "sRoaau8TFS9-"
      },
      "execution_count": null,
      "outputs": []
    },
    {
      "cell_type": "code",
      "source": [
        "\n",
        "def u(n) :\n",
        "    return 1 if n >=0 else 0\n",
        "\n",
        "def h(n) :\n",
        "    return ((1 / 3) ** n) * u(n - 3)\n",
        "\n",
        "def x(n):\n",
        "    return ((1 / 6) ** (n - 6)) * u(n)\n",
        "\n",
        "\n",
        "def y(n,ks) :\n",
        "    \n",
        "    yn = 0\n",
        "    for k in ks:\n",
        "        yn += x(k) * h(n - k)\n",
        "        \n",
        "    return yn\n",
        "\n",
        "def plot_graph (xs,ys):\n",
        "    \n",
        "    fig, ax = plt.subplots()\n",
        "\n",
        "    ax.stem(xs,ys)\n",
        "    ax.grid()\n",
        "\n",
        "    plt.show()\n",
        "    \n",
        "\n",
        "if __name__ == '__main__':\n",
        "    \n",
        "    #Deret k\n",
        "    ks = np.arange(-5,6)\n",
        "    \n",
        "    #hasil h(k)\n",
        "    hs =[h(k) for k in ks]\n",
        "    #hasil x(k)\n",
        "    xs = [x(k) for k in ks]\n",
        "    \n",
        "    #Plot\n",
        "    plot_graph(ks, hs)\n",
        "    plot_graph(ks, xs)\n",
        "    \n",
        "    #Deret n\n",
        "    ns = np.arange(0,10)\n",
        "    \n",
        "    print(\"\\n\\n---------------------------------\\n\")\n",
        "    for n in ns:\n",
        "        print(\"n = {0} -> y({1}) = {2} \\n\".format(n,n,y(n,ks)))\n",
        "        \n",
        "    print(\"\\n\\n---------------------------------\\n\")\n",
        "    \n",
        "    ys = [y(n,ks) for n in ns]\n",
        "    \n",
        "    plot_graph(ns, ys)"
      ],
      "metadata": {
        "colab": {
          "base_uri": "https://localhost:8080/",
          "height": 1000
        },
        "outputId": "df96fe26-ef13-4fbf-bdeb-1013f098c0da",
        "id": "jexlcB2VFY50"
      },
      "execution_count": null,
      "outputs": [
        {
          "output_type": "stream",
          "name": "stderr",
          "text": [
            "/usr/local/lib/python3.7/dist-packages/ipykernel_launcher.py:23: UserWarning: In Matplotlib 3.3 individual lines on a stem plot will be added as a LineCollection instead of individual lines. This significantly improves the performance of a stem plot. To remove this warning and switch to the new behaviour, set the \"use_line_collection\" keyword argument to True.\n"
          ]
        },
        {
          "output_type": "display_data",
          "data": {
            "text/plain": [
              "<Figure size 432x288 with 1 Axes>"
            ],
            "image/png": "[encoded data removed]"
          },
          "metadata": {
            "needs_background": "light"
          }
        },
        {
          "output_type": "stream",
          "name": "stderr",
          "text": [
            "/usr/local/lib/python3.7/dist-packages/ipykernel_launcher.py:23: UserWarning: In Matplotlib 3.3 individual lines on a stem plot will be added as a LineCollection instead of individual lines. This significantly improves the performance of a stem plot. To remove this warning and switch to the new behaviour, set the \"use_line_collection\" keyword argument to True.\n"
          ]
        },
        {
          "output_type": "display_data",
          "data": {
            "text/plain": [
              "<Figure size 432x288 with 1 Axes>"
            ],
            "image/png": "[encoded data removed]"
          },
          "metadata": {
            "needs_background": "light"
          }
        },
        {
          "output_type": "stream",
          "name": "stderr",
          "text": [
            "/usr/local/lib/python3.7/dist-packages/ipykernel_launcher.py:23: UserWarning: In Matplotlib 3.3 individual lines on a stem plot will be added as a LineCollection instead of individual lines. This significantly improves the performance of a stem plot. To remove this warning and switch to the new behaviour, set the \"use_line_collection\" keyword argument to True.\n"
          ]
        },
        {
          "output_type": "stream",
          "name": "stdout",
          "text": [
            "\n",
            "\n",
            "---------------------------------\n",
            "\n",
            "n = 0 -> y(0) = 0.0 \n",
            "\n",
            "n = 1 -> y(1) = 0.0 \n",
            "\n",
            "n = 2 -> y(2) = 0.0 \n",
            "\n",
            "n = 3 -> y(3) = 1728.0000000000002 \n",
            "\n",
            "n = 4 -> y(4) = 864.0000000000001 \n",
            "\n",
            "n = 5 -> y(5) = 336.0 \n",
            "\n",
            "n = 6 -> y(6) = 119.99999999999999 \n",
            "\n",
            "n = 7 -> y(7) = 41.33333333333333 \n",
            "\n",
            "n = 8 -> y(8) = 13.999999999999996 \n",
            "\n",
            "n = 9 -> y(9) = 4.666666666666665 \n",
            "\n",
            "\n",
            "\n",
            "---------------------------------\n",
            "\n"
          ]
        },
        {
          "output_type": "display_data",
          "data": {
            "text/plain": [
              "<Figure size 432x288 with 1 Axes>"
            ],
            "image/png": "[encoded data removed]"
          },
          "metadata": {
            "needs_background": "light"
          }
        }
      ]
    }
  ]
}