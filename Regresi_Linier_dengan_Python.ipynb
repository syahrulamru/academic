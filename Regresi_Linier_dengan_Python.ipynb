{
  "nbformat": 4,
  "nbformat_minor": 0,
  "metadata": {
    "colab": {
      "provenance": []
    },
    "kernelspec": {
      "name": "python3",
      "display_name": "Python 3"
    },
    "language_info": {
      "name": "python"
    }
  },
  "cells": [
    {
      "cell_type": "markdown",
      "source": [
        "# **Regresi Linier memakai library statsmodel**\n",
        "\n",
        "Oleh Kelompok 1:\n",
        "1. Adriel Sebastian\n",
        "2. Farizan Qurunnulbahri\n",
        "3. Muhammad Aziz Arrazi\n",
        "4. Nussa Raffiandana Sarodja\n",
        "5. Syahrul Amru"
      ],
      "metadata": {
        "id": "ERsrP3TgCetS"
      }
    },
    {
      "cell_type": "markdown",
      "source": [
        "# 1. Import data\n",
        "Di sini kami memakai dataset Nearest Earth Objects yang didapat dari https://www.kaggle.com/datasets/sameepvani/nasa-nearest-earth-objects."
      ],
      "metadata": {
        "id": "74ZykkjpL0vU"
      }
    },
    {
      "cell_type": "code",
      "execution_count": null,
      "metadata": {
        "colab": {
          "base_uri": "https://localhost:8080/",
          "height": 409
        },
        "id": "6qKsj-df6vE9",
        "outputId": "82b0b47c-f8e0-438a-c810-3b08b1571d06"
      },
      "outputs": [
        {
          "output_type": "execute_result",
          "data": {
            "text/plain": [
              "        id                 name  est_diameter_min  est_diameter_max  \\\n",
              "0  2162635  162635 (2000 SS164)          1.198271          2.679415   \n",
              "1  2277475    277475 (2005 WK4)          0.265800          0.594347   \n",
              "2  2512244   512244 (2015 YE18)          0.722030          1.614507   \n",
              "3  3596030          (2012 BV13)          0.096506          0.215794   \n",
              "4  3667127          (2014 GE35)          0.255009          0.570217   \n",
              "\n",
              "   relative_velocity  miss_distance orbiting_body  sentry_object  \\\n",
              "0       13569.249224   5.483974e+07         Earth          False   \n",
              "1       73588.726663   6.143813e+07         Earth          False   \n",
              "2      114258.692129   4.979872e+07         Earth          False   \n",
              "3       24764.303138   2.543497e+07         Earth          False   \n",
              "4       42737.733765   4.627557e+07         Earth          False   \n",
              "\n",
              "   absolute_magnitude  hazardous  \n",
              "0               16.73      False  \n",
              "1               20.00       True  \n",
              "2               17.83      False  \n",
              "3               22.20      False  \n",
              "4               20.09       True  "
            ],
            "text/html": [
              "\n",
              "  <div id=\"df-ab10f93e-96cf-48f2-acb1-88293213809f\">\n",
              "    <div class=\"colab-df-container\">\n",
              "      <div>\n",
              "<style scoped>\n",
              "    .dataframe tbody tr th:only-of-type {\n",
              "        vertical-align: middle;\n",
              "    }\n",
              "\n",
              "    .dataframe tbody tr th {\n",
              "        vertical-align: top;\n",
              "    }\n",
              "\n",
              "    .dataframe thead th {\n",
              "        text-align: right;\n",
              "    }\n",
              "</style>\n",
              "<table border=\"1\" class=\"dataframe\">\n",
              "  <thead>\n",
              "    <tr style=\"text-align: right;\">\n",
              "      <th></th>\n",
              "      <th>id</th>\n",
              "      <th>name</th>\n",
              "      <th>est_diameter_min</th>\n",
              "      <th>est_diameter_max</th>\n",
              "      <th>relative_velocity</th>\n",
              "      <th>miss_distance</th>\n",
              "      <th>orbiting_body</th>\n",
              "      <th>sentry_object</th>\n",
              "      <th>absolute_magnitude</th>\n",
              "      <th>hazardous</th>\n",
              "    </tr>\n",
              "  </thead>\n",
              "  <tbody>\n",
              "    <tr>\n",
              "      <th>0</th>\n",
              "      <td>2162635</td>\n",
              "      <td>162635 (2000 SS164)</td>\n",
              "      <td>1.198271</td>\n",
              "      <td>2.679415</td>\n",
              "      <td>13569.249224</td>\n",
              "      <td>5.483974e+07</td>\n",
              "      <td>Earth</td>\n",
              "      <td>False</td>\n",
              "      <td>16.73</td>\n",
              "      <td>False</td>\n",
              "    </tr>\n",
              "    <tr>\n",
              "      <th>1</th>\n",
              "      <td>2277475</td>\n",
              "      <td>277475 (2005 WK4)</td>\n",
              "      <td>0.265800</td>\n",
              "      <td>0.594347</td>\n",
              "      <td>73588.726663</td>\n",
              "      <td>6.143813e+07</td>\n",
              "      <td>Earth</td>\n",
              "      <td>False</td>\n",
              "      <td>20.00</td>\n",
              "      <td>True</td>\n",
              "    </tr>\n",
              "    <tr>\n",
              "      <th>2</th>\n",
              "      <td>2512244</td>\n",
              "      <td>512244 (2015 YE18)</td>\n",
              "      <td>0.722030</td>\n",
              "      <td>1.614507</td>\n",
              "      <td>114258.692129</td>\n",
              "      <td>4.979872e+07</td>\n",
              "      <td>Earth</td>\n",
              "      <td>False</td>\n",
              "      <td>17.83</td>\n",
              "      <td>False</td>\n",
              "    </tr>\n",
              "    <tr>\n",
              "      <th>3</th>\n",
              "      <td>3596030</td>\n",
              "      <td>(2012 BV13)</td>\n",
              "      <td>0.096506</td>\n",
              "      <td>0.215794</td>\n",
              "      <td>24764.303138</td>\n",
              "      <td>2.543497e+07</td>\n",
              "      <td>Earth</td>\n",
              "      <td>False</td>\n",
              "      <td>22.20</td>\n",
              "      <td>False</td>\n",
              "    </tr>\n",
              "    <tr>\n",
              "      <th>4</th>\n",
              "      <td>3667127</td>\n",
              "      <td>(2014 GE35)</td>\n",
              "      <td>0.255009</td>\n",
              "      <td>0.570217</td>\n",
              "      <td>42737.733765</td>\n",
              "      <td>4.627557e+07</td>\n",
              "      <td>Earth</td>\n",
              "      <td>False</td>\n",
              "      <td>20.09</td>\n",
              "      <td>True</td>\n",
              "    </tr>\n",
              "  </tbody>\n",
              "</table>\n",
              "</div>\n",
              "      <button class=\"colab-df-convert\" onclick=\"convertToInteractive('df-ab10f93e-96cf-48f2-acb1-88293213809f')\"\n",
              "              title=\"Convert this dataframe to an interactive table.\"\n",
              "              style=\"display:none;\">\n",
              "        \n",
              "  <svg xmlns=\"http://www.w3.org/2000/svg\" height=\"24px\"viewBox=\"0 0 24 24\"\n",
              "       width=\"24px\">\n",
              "    <path d=\"M0 0h24v24H0V0z\" fill=\"none\"/>\n",
              "    <path d=\"M18.56 5.44l.94 2.06.94-2.06 2.06-.94-2.06-.94-.94-2.06-.94 2.06-2.06.94zm-11 1L8.5 8.5l.94-2.06 2.06-.94-2.06-.94L8.5 2.5l-.94 2.06-2.06.94zm10 10l.94 2.06.94-2.06 2.06-.94-2.06-.94-.94-2.06-.94 2.06-2.06.94z\"/><path d=\"M17.41 7.96l-1.37-1.37c-.4-.4-.92-.59-1.43-.59-.52 0-1.04.2-1.43.59L10.3 9.45l-7.72 7.72c-.78.78-.78 2.05 0 2.83L4 21.41c.39.39.9.59 1.41.59.51 0 1.02-.2 1.41-.59l7.78-7.78 2.81-2.81c.8-.78.8-2.07 0-2.86zM5.41 20L4 18.59l7.72-7.72 1.47 1.35L5.41 20z\"/>\n",
              "  </svg>\n",
              "      </button>\n",
              "      \n",
              "  <style>\n",
              "    .colab-df-container {\n",
              "      display:flex;\n",
              "      flex-wrap:wrap;\n",
              "      gap: 12px;\n",
              "    }\n",
              "\n",
              "    .colab-df-convert {\n",
              "      background-color: #E8F0FE;\n",
              "      border: none;\n",
              "      border-radius: 50%;\n",
              "      cursor: pointer;\n",
              "      display: none;\n",
              "      fill: #1967D2;\n",
              "      height: 32px;\n",
              "      padding: 0 0 0 0;\n",
              "      width: 32px;\n",
              "    }\n",
              "\n",
              "    .colab-df-convert:hover {\n",
              "      background-color: #E2EBFA;\n",
              "      box-shadow: 0px 1px 2px rgba(60, 64, 67, 0.3), 0px 1px 3px 1px rgba(60, 64, 67, 0.15);\n",
              "      fill: #174EA6;\n",
              "    }\n",
              "\n",
              "    [theme=dark] .colab-df-convert {\n",
              "      background-color: #3B4455;\n",
              "      fill: #D2E3FC;\n",
              "    }\n",
              "\n",
              "    [theme=dark] .colab-df-convert:hover {\n",
              "      background-color: #434B5C;\n",
              "      box-shadow: 0px 1px 3px 1px rgba(0, 0, 0, 0.15);\n",
              "      filter: drop-shadow(0px 1px 2px rgba(0, 0, 0, 0.3));\n",
              "      fill: #FFFFFF;\n",
              "    }\n",
              "  </style>\n",
              "\n",
              "      <script>\n",
              "        const buttonEl =\n",
              "          document.querySelector('#df-ab10f93e-96cf-48f2-acb1-88293213809f button.colab-df-convert');\n",
              "        buttonEl.style.display =\n",
              "          google.colab.kernel.accessAllowed ? 'block' : 'none';\n",
              "\n",
              "        async function convertToInteractive(key) {\n",
              "          const element = document.querySelector('#df-ab10f93e-96cf-48f2-acb1-88293213809f');\n",
              "          const dataTable =\n",
              "            await google.colab.kernel.invokeFunction('convertToInteractive',\n",
              "                                                     [key], {});\n",
              "          if (!dataTable) return;\n",
              "\n",
              "          const docLinkHtml = 'Like what you see? Visit the ' +\n",
              "            '<a target=\"_blank\" href=https://colab.research.google.com/notebooks/data_table.ipynb>data table notebook</a>'\n",
              "            + ' to learn more about interactive tables.';\n",
              "          element.innerHTML = '';\n",
              "          dataTable['output_type'] = 'display_data';\n",
              "          await google.colab.output.renderOutput(dataTable, element);\n",
              "          const docLink = document.createElement('div');\n",
              "          docLink.innerHTML = docLinkHtml;\n",
              "          element.appendChild(docLink);\n",
              "        }\n",
              "      </script>\n",
              "    </div>\n",
              "  </div>\n",
              "  "
            ]
          },
          "metadata": {},
          "execution_count": 30
        }
      ],
      "source": [
        "import pandas as pd\n",
        "neo = pd.read_csv('/content/neo.csv')\n",
        "neo.head()"
      ]
    },
    {
      "cell_type": "markdown",
      "source": [
        "#2. Membuat model OLS\n",
        "\n",
        "\n",
        "Dataset ini berisi data nilai estimasi diameter, kecepatan relatif, dan jarak, untuk setiap NEO dan magnitudo absolutnya. Untuk melihat korelasi antara kecepatan relatif dan magnitudo absolutnya, ditulis kode berikut:"
      ],
      "metadata": {
        "id": "koJWs1gLLnJV"
      }
    },
    {
      "cell_type": "code",
      "source": [
        "import statsmodels.formula.api as smf\n",
        "model1 = smf.ols(formula = 'absolute_magnitude~relative_velocity', data = neo).fit()\n",
        "model1.params"
      ],
      "metadata": {
        "colab": {
          "base_uri": "https://localhost:8080/"
        },
        "id": "6M31rFca7uJt",
        "outputId": "aaff0201-e781-4851-d89c-351d3baacdec"
      },
      "execution_count": null,
      "outputs": [
        {
          "output_type": "execute_result",
          "data": {
            "text/plain": [
              "Intercept            25.473301\n",
              "relative_velocity    -0.000040\n",
              "dtype: float64"
            ]
          },
          "metadata": {},
          "execution_count": 32
        }
      ]
    },
    {
      "cell_type": "markdown",
      "source": [
        "Didapatkan nilai parameter model intersep α dan slope β:\n",
        "\n",
        "α = 25.47\n",
        "\n",
        "β = -0.00004"
      ],
      "metadata": {
        "id": "RKr7MRHxOhxq"
      }
    },
    {
      "cell_type": "markdown",
      "source": [
        "Persamaan untuk model ini akan menjadi sebagai berikut:\n",
        "\n",
        "Y = α + β*X\n",
        "\n",
        "magnitudo = 25.47 - 0.00004*kecepatan"
      ],
      "metadata": {
        "id": "sLIw5ijePXHw"
      }
    },
    {
      "cell_type": "markdown",
      "source": [
        "#3. Parameter model\n",
        "\n",
        "**a. Nilai p**\n",
        "\n",
        "Jika nilai p sangat kecil, maka parameter memiliki nilai bukan nol dan secara statistik signifikan di dalam model."
      ],
      "metadata": {
        "id": "k0adsZR3Qn6O"
      }
    },
    {
      "cell_type": "code",
      "source": [
        "model1.pvalues"
      ],
      "metadata": {
        "colab": {
          "base_uri": "https://localhost:8080/"
        },
        "id": "6LubE-mX8kIB",
        "outputId": "ca1b801e-5cff-463b-d67b-04f95e2cf4d3"
      },
      "execution_count": null,
      "outputs": [
        {
          "output_type": "execute_result",
          "data": {
            "text/plain": [
              "Intercept            0.0\n",
              "relative_velocity    0.0\n",
              "dtype: float64"
            ]
          },
          "metadata": {},
          "execution_count": 35
        }
      ]
    },
    {
      "cell_type": "markdown",
      "source": [
        "**b. Nilai R^2**"
      ],
      "metadata": {
        "id": "fkecE7zRRwJV"
      }
    },
    {
      "cell_type": "code",
      "source": [
        "model1.rsquared"
      ],
      "metadata": {
        "colab": {
          "base_uri": "https://localhost:8080/"
        },
        "id": "qCyerJjK8x2S",
        "outputId": "435be0cb-395a-456d-fdc3-cc2735bf3036"
      },
      "execution_count": null,
      "outputs": [
        {
          "output_type": "execute_result",
          "data": {
            "text/plain": [
              "0.12521875685386308"
            ]
          },
          "metadata": {},
          "execution_count": 36
        }
      ]
    },
    {
      "cell_type": "markdown",
      "source": [
        "**c. Semua parameter model**"
      ],
      "metadata": {
        "id": "4HmBrSUKSEO2"
      }
    },
    {
      "cell_type": "code",
      "source": [
        "model1.summary()"
      ],
      "metadata": {
        "colab": {
          "base_uri": "https://localhost:8080/",
          "height": 486
        },
        "id": "uwn_A1qr83X4",
        "outputId": "a00457cb-01d9-4984-fd1b-1e58b1458d29"
      },
      "execution_count": null,
      "outputs": [
        {
          "output_type": "execute_result",
          "data": {
            "text/plain": [
              "<class 'statsmodels.iolib.summary.Summary'>\n",
              "\"\"\"\n",
              "                            OLS Regression Results                            \n",
              "==============================================================================\n",
              "Dep. Variable:     absolute_magnitude   R-squared:                       0.125\n",
              "Model:                            OLS   Adj. R-squared:                  0.125\n",
              "Method:                 Least Squares   F-statistic:                 1.300e+04\n",
              "Date:                Sun, 23 Oct 2022   Prob (F-statistic):               0.00\n",
              "Time:                        10:00:38   Log-Likelihood:            -2.1934e+05\n",
              "No. Observations:               90836   AIC:                         4.387e+05\n",
              "Df Residuals:                   90834   BIC:                         4.387e+05\n",
              "Df Model:                           1                                         \n",
              "Covariance Type:            nonrobust                                         \n",
              "=====================================================================================\n",
              "                        coef    std err          t      P>|t|      [0.025      0.975]\n",
              "-------------------------------------------------------------------------------------\n",
              "Intercept            25.4733      0.019   1320.779      0.000      25.435      25.511\n",
              "relative_velocity -4.049e-05   3.55e-07   -114.027      0.000   -4.12e-05   -3.98e-05\n",
              "==============================================================================\n",
              "Omnibus:                      142.104   Durbin-Watson:                   1.645\n",
              "Prob(Omnibus):                  0.000   Jarque-Bera (JB):              123.721\n",
              "Skew:                          -0.040   Prob(JB):                     1.36e-27\n",
              "Kurtosis:                       2.838   Cond. No.                     1.17e+05\n",
              "==============================================================================\n",
              "\n",
              "Notes:\n",
              "[1] Standard Errors assume that the covariance matrix of the errors is correctly specified.\n",
              "[2] The condition number is large, 1.17e+05. This might indicate that there are\n",
              "strong multicollinearity or other numerical problems.\n",
              "\"\"\""
            ],
            "text/html": [
              "<table class=\"simpletable\">\n",
              "<caption>OLS Regression Results</caption>\n",
              "<tr>\n",
              "  <th>Dep. Variable:</th>    <td>absolute_magnitude</td> <th>  R-squared:         </th>  <td>   0.125</td>  \n",
              "</tr>\n",
              "<tr>\n",
              "  <th>Model:</th>                    <td>OLS</td>        <th>  Adj. R-squared:    </th>  <td>   0.125</td>  \n",
              "</tr>\n",
              "<tr>\n",
              "  <th>Method:</th>              <td>Least Squares</td>   <th>  F-statistic:       </th>  <td>1.300e+04</td> \n",
              "</tr>\n",
              "<tr>\n",
              "  <th>Date:</th>              <td>Sun, 23 Oct 2022</td>  <th>  Prob (F-statistic):</th>   <td>  0.00</td>   \n",
              "</tr>\n",
              "<tr>\n",
              "  <th>Time:</th>                  <td>10:00:38</td>      <th>  Log-Likelihood:    </th> <td>-2.1934e+05</td>\n",
              "</tr>\n",
              "<tr>\n",
              "  <th>No. Observations:</th>       <td> 90836</td>       <th>  AIC:               </th>  <td>4.387e+05</td> \n",
              "</tr>\n",
              "<tr>\n",
              "  <th>Df Residuals:</th>           <td> 90834</td>       <th>  BIC:               </th>  <td>4.387e+05</td> \n",
              "</tr>\n",
              "<tr>\n",
              "  <th>Df Model:</th>               <td>     1</td>       <th>                     </th>      <td> </td>     \n",
              "</tr>\n",
              "<tr>\n",
              "  <th>Covariance Type:</th>       <td>nonrobust</td>     <th>                     </th>      <td> </td>     \n",
              "</tr>\n",
              "</table>\n",
              "<table class=\"simpletable\">\n",
              "<tr>\n",
              "          <td></td>             <th>coef</th>     <th>std err</th>      <th>t</th>      <th>P>|t|</th>  <th>[0.025</th>    <th>0.975]</th>  \n",
              "</tr>\n",
              "<tr>\n",
              "  <th>Intercept</th>         <td>   25.4733</td> <td>    0.019</td> <td> 1320.779</td> <td> 0.000</td> <td>   25.435</td> <td>   25.511</td>\n",
              "</tr>\n",
              "<tr>\n",
              "  <th>relative_velocity</th> <td>-4.049e-05</td> <td> 3.55e-07</td> <td> -114.027</td> <td> 0.000</td> <td>-4.12e-05</td> <td>-3.98e-05</td>\n",
              "</tr>\n",
              "</table>\n",
              "<table class=\"simpletable\">\n",
              "<tr>\n",
              "  <th>Omnibus:</th>       <td>142.104</td> <th>  Durbin-Watson:     </th> <td>   1.645</td>\n",
              "</tr>\n",
              "<tr>\n",
              "  <th>Prob(Omnibus):</th> <td> 0.000</td>  <th>  Jarque-Bera (JB):  </th> <td> 123.721</td>\n",
              "</tr>\n",
              "<tr>\n",
              "  <th>Skew:</th>          <td>-0.040</td>  <th>  Prob(JB):          </th> <td>1.36e-27</td>\n",
              "</tr>\n",
              "<tr>\n",
              "  <th>Kurtosis:</th>      <td> 2.838</td>  <th>  Cond. No.          </th> <td>1.17e+05</td>\n",
              "</tr>\n",
              "</table><br/><br/>Notes:<br/>[1] Standard Errors assume that the covariance matrix of the errors is correctly specified.<br/>[2] The condition number is large, 1.17e+05. This might indicate that there are<br/>strong multicollinearity or other numerical problems."
            ]
          },
          "metadata": {},
          "execution_count": 37
        }
      ]
    },
    {
      "cell_type": "markdown",
      "source": [
        "#4. Nilai Y dari persamaan model\n",
        "\n",
        "Prediksi nilai magnitudo absolut berdasarkan persamaan yang telah dibuat dapat diselesaikan dengan menggunakan kode berikut:"
      ],
      "metadata": {
        "id": "3lnD-9NlSrFs"
      }
    },
    {
      "cell_type": "code",
      "source": [
        "absolute_magnitude_pred = model1.predict(neo['relative_velocity'])\n",
        "absolute_magnitude_pred"
      ],
      "metadata": {
        "colab": {
          "base_uri": "https://localhost:8080/"
        },
        "id": "GG_C-AH99U7e",
        "outputId": "6c655976-66ac-4ac7-ed9d-240e2104a0e2"
      },
      "execution_count": null,
      "outputs": [
        {
          "output_type": "execute_result",
          "data": {
            "text/plain": [
              "0        24.923891\n",
              "1        22.493743\n",
              "2        20.847043\n",
              "3        24.470611\n",
              "4        23.742879\n",
              "           ...    \n",
              "90831    23.364662\n",
              "90832    23.606151\n",
              "90833    25.166926\n",
              "90834    22.671473\n",
              "90835    24.379099\n",
              "Length: 90836, dtype: float64"
            ]
          },
          "metadata": {},
          "execution_count": 40
        }
      ]
    },
    {
      "cell_type": "markdown",
      "source": [
        "#5. Pembuatan grafik\n",
        "\n",
        "Nilai prediksi magnitudo vs kecepatan relatif dapat diplot untuk mendapatkan garis yang menjelaskan persebaran data dan kecenderungan tren (*line of best fit*). Berikut adalah kode yang digunakan:"
      ],
      "metadata": {
        "id": "8r6jRWj_UJL3"
      }
    },
    {
      "cell_type": "code",
      "source": [
        "import matplotlib.pyplot as plt\n",
        "%matplotlib inline\n",
        "neo.plot(kind='scatter', x = 'relative_velocity', y = 'absolute_magnitude')\n",
        "plt.plot(neo['relative_velocity'], absolute_magnitude_pred, c = 'red', linewidth = 2)"
      ],
      "metadata": {
        "colab": {
          "base_uri": "https://localhost:8080/",
          "height": 297
        },
        "id": "j03xokau-MSo",
        "outputId": "ad69e629-804c-4407-f6e8-fdcd1e2a678a"
      },
      "execution_count": null,
      "outputs": [
        {
          "output_type": "execute_result",
          "data": {
            "text/plain": [
              "[<matplotlib.lines.Line2D at 0x7fc5e8115f50>]"
            ]
          },
          "metadata": {},
          "execution_count": 41
        },
        {
          "output_type": "display_data",
          "data": {
            "text/plain": [
              "<Figure size 432x288 with 1 Axes>"
            ],
            "image/png": "[encoded data removed]"
          },
          "metadata": {
            "needs_background": "light"
          }
        }
      ]
    },
    {
      "cell_type": "markdown",
      "source": [
        "# 6. Kalkulasi RSE\n",
        "\n",
        "Nilai RSE untuk prediksi kita dapat dicari memakai kode berikut:"
      ],
      "metadata": {
        "id": "IXdUJzC-VrUY"
      }
    },
    {
      "cell_type": "code",
      "source": [
        "import numpy as np\n",
        "n = len(neo.index)\n",
        "p = 1\n",
        "neo['absolute_magnitude_pred'] = -0.000040 * neo['relative_velocity'] + 25.473301\n",
        "neo['RSE']=(neo['absolute_magnitude']-neo['absolute_magnitude_pred'])**2\n",
        "RSEd = neo.sum()['RSE']\n",
        "RSE = np.sqrt(RSEd/(n - p - 1))\n",
        "absolute_magnitudemean = np.mean(neo['absolute_magnitude'])\n",
        "error = RSE / absolute_magnitudemean\n",
        "RSE, absolute_magnitudemean, error"
      ],
      "metadata": {
        "colab": {
          "base_uri": "https://localhost:8080/"
        },
        "id": "SAsaLPIv_qMz",
        "outputId": "a6ea2264-1703-4190-ed3f-f973432cc740"
      },
      "execution_count": null,
      "outputs": [
        {
          "output_type": "execute_result",
          "data": {
            "text/plain": [
              "(2.7069760613378047, 23.52710347219164, 0.11505777005390283)"
            ]
          },
          "metadata": {},
          "execution_count": 53
        }
      ]
    },
    {
      "cell_type": "markdown",
      "source": [
        "Didapatkan 3 nilai, pertama adalah RSE = 2.71, kedua adalah absolute_magnitudemean (mean dari magnitudo absolut) = 23.53 dan yang ketiga adalah rasio mereka (error) yang memiliki nilai 0,115. Berarti, rata-rata model ini memiliki keakuratan 11.5 % meskipun prediksi dari koefisien benar. Error ini cukup besar. Cara untuk memperbaiki hal ini adalah mencoba menambah variabel prediktor (x)."
      ],
      "metadata": {
        "id": "pi-Sg7xBZvyG"
      }
    },
    {
      "cell_type": "markdown",
      "source": [
        "# **Regresi linier multiple**"
      ],
      "metadata": {
        "id": "UGWZAqxrC4iD"
      }
    },
    {
      "cell_type": "markdown",
      "source": [
        "#1. 2 Variabel prediktor X"
      ],
      "metadata": {
        "id": "KyCK9_BVgL-l"
      }
    },
    {
      "cell_type": "code",
      "source": [
        "model2=smf.ols(formula='absolute_magnitude~relative_velocity+est_diameter_max',data=neo).fit()\n",
        "model2.params"
      ],
      "metadata": {
        "colab": {
          "base_uri": "https://localhost:8080/"
        },
        "id": "lCU52YkLDL8a",
        "outputId": "43f5c666-8210-4213-fa9c-1a065029b74c"
      },
      "execution_count": null,
      "outputs": [
        {
          "output_type": "execute_result",
          "data": {
            "text/plain": [
              "Intercept            25.481888\n",
              "relative_velocity    -0.000028\n",
              "est_diameter_max     -2.196753\n",
              "dtype: float64"
            ]
          },
          "metadata": {},
          "execution_count": 66
        }
      ]
    },
    {
      "cell_type": "code",
      "source": [
        "model2.pvalues"
      ],
      "metadata": {
        "colab": {
          "base_uri": "https://localhost:8080/"
        },
        "id": "cFKpZByjcedW",
        "outputId": "0a785b1c-a2e0-4e67-d3e7-d34897abfba6"
      },
      "execution_count": null,
      "outputs": [
        {
          "output_type": "execute_result",
          "data": {
            "text/plain": [
              "Intercept            0.0\n",
              "relative_velocity    0.0\n",
              "est_diameter_max     0.0\n",
              "dtype: float64"
            ]
          },
          "metadata": {},
          "execution_count": 67
        }
      ]
    },
    {
      "cell_type": "code",
      "source": [
        "absolute_magnitude_pred=model2.predict(neo[['relative_velocity','est_diameter_max']])\n",
        "absolute_magnitude_pred"
      ],
      "metadata": {
        "colab": {
          "base_uri": "https://localhost:8080/"
        },
        "id": "oPwGy3EwchgW",
        "outputId": "a8d06544-1db4-421c-f998-d9226b1b719b"
      },
      "execution_count": null,
      "outputs": [
        {
          "output_type": "execute_result",
          "data": {
            "text/plain": [
              "0        19.220750\n",
              "1        22.141869\n",
              "2        18.776494\n",
              "3        24.323223\n",
              "4        23.047763\n",
              "           ...    \n",
              "90831    23.911586\n",
              "90832    24.124654\n",
              "90833    25.115729\n",
              "90834    23.532893\n",
              "90835    24.538984\n",
              "Length: 90836, dtype: float64"
            ]
          },
          "metadata": {},
          "execution_count": 68
        }
      ]
    },
    {
      "cell_type": "code",
      "source": [
        "p = 2\n",
        "neo['absolute_magnitude_pred'] = ((-3.426825e5) * neo['relative_velocity']) + ((-2.151697e8) * neo['est_diameter_max']) + 2.597183e1\n",
        "neo['RSE']=(neo['absolute_magnitude']-neo['absolute_magnitude_pred'])**2\n",
        "RSEd = neo.sum()['RSE']\n",
        "RSE = np.sqrt(RSEd/(n - p - 1))\n",
        "absolute_magnitudemean = np.mean(neo['absolute_magnitude'])\n",
        "error = RSE / absolute_magnitudemean\n",
        "RSE, absolute_magnitudemean, error"
      ],
      "metadata": {
        "colab": {
          "base_uri": "https://localhost:8080/"
        },
        "id": "J1eqSQihc7uL",
        "outputId": "eb65a7f7-45f8-4ef1-b7ac-2628a7698c5c"
      },
      "execution_count": null,
      "outputs": [
        {
          "output_type": "execute_result",
          "data": {
            "text/plain": [
              "(18682877815.22424, 23.52710347219164, 794100210.3087982)"
            ]
          },
          "metadata": {},
          "execution_count": 69
        }
      ]
    },
    {
      "cell_type": "markdown",
      "source": [
        "#2. 3 Variabel prediktor X"
      ],
      "metadata": {
        "id": "kjZkXtTdgYec"
      }
    },
    {
      "cell_type": "code",
      "source": [
        "model3=smf.ols(formula='absolute_magnitude~relative_velocity+est_diameter_max+miss_distance',data=neo).fit()\n",
        "model3.params"
      ],
      "metadata": {
        "colab": {
          "base_uri": "https://localhost:8080/"
        },
        "id": "BKQfip4YgnQW",
        "outputId": "1e100664-61fb-4a22-961f-e91cde166942"
      },
      "execution_count": null,
      "outputs": [
        {
          "output_type": "execute_result",
          "data": {
            "text/plain": [
              "Intercept            2.586372e+01\n",
              "relative_velocity   -2.311539e-05\n",
              "est_diameter_max    -2.156253e+00\n",
              "miss_distance       -1.648687e-08\n",
              "dtype: float64"
            ]
          },
          "metadata": {},
          "execution_count": 71
        }
      ]
    },
    {
      "cell_type": "code",
      "source": [
        "model3.pvalues"
      ],
      "metadata": {
        "colab": {
          "base_uri": "https://localhost:8080/"
        },
        "id": "LBT4_Kb-hpIu",
        "outputId": "244182f0-409b-4e05-ba34-4ea4a1dd4266"
      },
      "execution_count": null,
      "outputs": [
        {
          "output_type": "execute_result",
          "data": {
            "text/plain": [
              "Intercept            0.0\n",
              "relative_velocity    0.0\n",
              "est_diameter_max     0.0\n",
              "miss_distance        0.0\n",
              "dtype: float64"
            ]
          },
          "metadata": {},
          "execution_count": 74
        }
      ]
    },
    {
      "cell_type": "code",
      "source": [
        "absolute_magnitude_pred=model3.predict(neo[['relative_velocity','est_diameter_max','miss_distance']])\n",
        "absolute_magnitude_pred"
      ],
      "metadata": {
        "colab": {
          "base_uri": "https://localhost:8080/"
        },
        "id": "Xh5-wTRuhBUZ",
        "outputId": "1a221f93-dd08-4c41-ba30-8da088ae92d7"
      },
      "execution_count": null,
      "outputs": [
        {
          "output_type": "execute_result",
          "data": {
            "text/plain": [
              "0        18.868427\n",
              "1        21.868201\n",
              "2        18.920272\n",
              "3        24.406631\n",
              "4        22.883348\n",
              "           ...    \n",
              "90831    24.328943\n",
              "90832    23.821313\n",
              "90833    25.066491\n",
              "90834    23.096338\n",
              "90835    24.061388\n",
              "Length: 90836, dtype: float64"
            ]
          },
          "metadata": {},
          "execution_count": 72
        }
      ]
    },
    {
      "cell_type": "code",
      "source": [
        "model3.summary()"
      ],
      "metadata": {
        "colab": {
          "base_uri": "https://localhost:8080/",
          "height": 529
        },
        "id": "R-CDIHXkhe5P",
        "outputId": "c77518f0-6e0e-4ab0-8621-ff7e666efe1c"
      },
      "execution_count": null,
      "outputs": [
        {
          "output_type": "execute_result",
          "data": {
            "text/plain": [
              "<class 'statsmodels.iolib.summary.Summary'>\n",
              "\"\"\"\n",
              "                            OLS Regression Results                            \n",
              "==============================================================================\n",
              "Dep. Variable:     absolute_magnitude   R-squared:                       0.384\n",
              "Model:                            OLS   Adj. R-squared:                  0.384\n",
              "Method:                 Least Squares   F-statistic:                 1.885e+04\n",
              "Date:                Sun, 23 Oct 2022   Prob (F-statistic):               0.00\n",
              "Time:                        11:06:46   Log-Likelihood:            -2.0343e+05\n",
              "No. Observations:               90836   AIC:                         4.069e+05\n",
              "Df Residuals:                   90832   BIC:                         4.069e+05\n",
              "Df Model:                           3                                         \n",
              "Covariance Type:            nonrobust                                         \n",
              "=====================================================================================\n",
              "                        coef    std err          t      P>|t|      [0.025      0.975]\n",
              "-------------------------------------------------------------------------------------\n",
              "Intercept            25.8637      0.018   1422.076      0.000      25.828      25.899\n",
              "relative_velocity -2.312e-05   3.21e-07    -71.995      0.000   -2.37e-05   -2.25e-05\n",
              "est_diameter_max     -2.1563      0.012   -185.646      0.000      -2.179      -2.133\n",
              "miss_distance     -1.649e-08   3.58e-10    -46.062      0.000   -1.72e-08   -1.58e-08\n",
              "==============================================================================\n",
              "Omnibus:                   130787.621   Durbin-Watson:                   1.769\n",
              "Prob(Omnibus):                  0.000   Jarque-Bera (JB):        730285869.934\n",
              "Skew:                           7.594   Prob(JB):                         0.00\n",
              "Kurtosis:                     441.999   Cond. No.                     1.04e+08\n",
              "==============================================================================\n",
              "\n",
              "Notes:\n",
              "[1] Standard Errors assume that the covariance matrix of the errors is correctly specified.\n",
              "[2] The condition number is large, 1.04e+08. This might indicate that there are\n",
              "strong multicollinearity or other numerical problems.\n",
              "\"\"\""
            ],
            "text/html": [
              "<table class=\"simpletable\">\n",
              "<caption>OLS Regression Results</caption>\n",
              "<tr>\n",
              "  <th>Dep. Variable:</th>    <td>absolute_magnitude</td> <th>  R-squared:         </th>  <td>   0.384</td>  \n",
              "</tr>\n",
              "<tr>\n",
              "  <th>Model:</th>                    <td>OLS</td>        <th>  Adj. R-squared:    </th>  <td>   0.384</td>  \n",
              "</tr>\n",
              "<tr>\n",
              "  <th>Method:</th>              <td>Least Squares</td>   <th>  F-statistic:       </th>  <td>1.885e+04</td> \n",
              "</tr>\n",
              "<tr>\n",
              "  <th>Date:</th>              <td>Sun, 23 Oct 2022</td>  <th>  Prob (F-statistic):</th>   <td>  0.00</td>   \n",
              "</tr>\n",
              "<tr>\n",
              "  <th>Time:</th>                  <td>11:06:46</td>      <th>  Log-Likelihood:    </th> <td>-2.0343e+05</td>\n",
              "</tr>\n",
              "<tr>\n",
              "  <th>No. Observations:</th>       <td> 90836</td>       <th>  AIC:               </th>  <td>4.069e+05</td> \n",
              "</tr>\n",
              "<tr>\n",
              "  <th>Df Residuals:</th>           <td> 90832</td>       <th>  BIC:               </th>  <td>4.069e+05</td> \n",
              "</tr>\n",
              "<tr>\n",
              "  <th>Df Model:</th>               <td>     3</td>       <th>                     </th>      <td> </td>     \n",
              "</tr>\n",
              "<tr>\n",
              "  <th>Covariance Type:</th>       <td>nonrobust</td>     <th>                     </th>      <td> </td>     \n",
              "</tr>\n",
              "</table>\n",
              "<table class=\"simpletable\">\n",
              "<tr>\n",
              "          <td></td>             <th>coef</th>     <th>std err</th>      <th>t</th>      <th>P>|t|</th>  <th>[0.025</th>    <th>0.975]</th>  \n",
              "</tr>\n",
              "<tr>\n",
              "  <th>Intercept</th>         <td>   25.8637</td> <td>    0.018</td> <td> 1422.076</td> <td> 0.000</td> <td>   25.828</td> <td>   25.899</td>\n",
              "</tr>\n",
              "<tr>\n",
              "  <th>relative_velocity</th> <td>-2.312e-05</td> <td> 3.21e-07</td> <td>  -71.995</td> <td> 0.000</td> <td>-2.37e-05</td> <td>-2.25e-05</td>\n",
              "</tr>\n",
              "<tr>\n",
              "  <th>est_diameter_max</th>  <td>   -2.1563</td> <td>    0.012</td> <td> -185.646</td> <td> 0.000</td> <td>   -2.179</td> <td>   -2.133</td>\n",
              "</tr>\n",
              "<tr>\n",
              "  <th>miss_distance</th>     <td>-1.649e-08</td> <td> 3.58e-10</td> <td>  -46.062</td> <td> 0.000</td> <td>-1.72e-08</td> <td>-1.58e-08</td>\n",
              "</tr>\n",
              "</table>\n",
              "<table class=\"simpletable\">\n",
              "<tr>\n",
              "  <th>Omnibus:</th>       <td>130787.621</td> <th>  Durbin-Watson:     </th>   <td>   1.769</td>   \n",
              "</tr>\n",
              "<tr>\n",
              "  <th>Prob(Omnibus):</th>   <td> 0.000</td>   <th>  Jarque-Bera (JB):  </th> <td>730285869.934</td>\n",
              "</tr>\n",
              "<tr>\n",
              "  <th>Skew:</th>            <td> 7.594</td>   <th>  Prob(JB):          </th>   <td>    0.00</td>   \n",
              "</tr>\n",
              "<tr>\n",
              "  <th>Kurtosis:</th>        <td>441.999</td>  <th>  Cond. No.          </th>   <td>1.04e+08</td>   \n",
              "</tr>\n",
              "</table><br/><br/>Notes:<br/>[1] Standard Errors assume that the covariance matrix of the errors is correctly specified.<br/>[2] The condition number is large, 1.04e+08. This might indicate that there are<br/>strong multicollinearity or other numerical problems."
            ]
          },
          "metadata": {},
          "execution_count": 73
        }
      ]
    },
    {
      "cell_type": "markdown",
      "source": [
        "#**Multi-kolinearitas**"
      ],
      "metadata": {
        "id": "yK_I-JVBhyVv"
      }
    },
    {
      "cell_type": "markdown",
      "source": [
        "#1. Variance Inflation Factor (VIF)"
      ],
      "metadata": {
        "id": "gGPyvVyuiDkJ"
      }
    },
    {
      "cell_type": "markdown",
      "source": [
        "VIF untuk variabel kecepatan relatif"
      ],
      "metadata": {
        "id": "f2CRbZFui-EE"
      }
    },
    {
      "cell_type": "code",
      "source": [
        "model=smf.ols(formula='relative_velocity~est_diameter_max+miss_distance',data=neo).fit()\n",
        "rsquared=model.rsquared\n",
        "VIF=1/(1-rsquared)\n",
        "VIF"
      ],
      "metadata": {
        "colab": {
          "base_uri": "https://localhost:8080/"
        },
        "id": "PMV32z0GiQZX",
        "outputId": "5576efa8-434d-47a5-a57a-129bec6dfa45"
      },
      "execution_count": null,
      "outputs": [
        {
          "output_type": "execute_result",
          "data": {
            "text/plain": [
              "1.1605008807075758"
            ]
          },
          "metadata": {},
          "execution_count": 76
        }
      ]
    },
    {
      "cell_type": "markdown",
      "source": [
        "VIF untuk variabel estimasi diameter maksimum"
      ],
      "metadata": {
        "id": "1T0z7fXVjHgy"
      }
    },
    {
      "cell_type": "code",
      "source": [
        "model=smf.ols(formula='est_diameter_max~relative_velocity+miss_distance',data=neo).fit()\n",
        "rsquared=model.rsquared\n",
        "VIF=1/(1-rsquared)\n",
        "VIF"
      ],
      "metadata": {
        "colab": {
          "base_uri": "https://localhost:8080/"
        },
        "id": "IVy1EigzjP4r",
        "outputId": "7eae10af-fe0b-4a01-8c32-3e2c3b461d89"
      },
      "execution_count": null,
      "outputs": [
        {
          "output_type": "execute_result",
          "data": {
            "text/plain": [
              "1.0576806361654674"
            ]
          },
          "metadata": {},
          "execution_count": 77
        }
      ]
    },
    {
      "cell_type": "markdown",
      "source": [
        "VIF untuk variabel jarak"
      ],
      "metadata": {
        "id": "T3hlLorgjM2w"
      }
    },
    {
      "cell_type": "code",
      "source": [
        "model=smf.ols(formula='miss_distance~relative_velocity+est_diameter_max',data=neo).fit()\n",
        "rsquared=model.rsquared\n",
        "VIF=1/(1-rsquared)\n",
        "VIF"
      ],
      "metadata": {
        "colab": {
          "base_uri": "https://localhost:8080/"
        },
        "id": "E1jjzJn-jQig",
        "outputId": "372ac0dd-c84b-492b-8aa2-c46d7805e0ee"
      },
      "execution_count": null,
      "outputs": [
        {
          "output_type": "execute_result",
          "data": {
            "text/plain": [
              "1.1263251494971607"
            ]
          },
          "metadata": {},
          "execution_count": 78
        }
      ]
    },
    {
      "cell_type": "markdown",
      "source": [
        "Kecepatan relatif, diameter, dan jarak memiliki nilai VIF antara 1 sampai 5, sehingga terindikasi ketiganya berkorelasi menengah dan tidak perlu dieliminasi dari model."
      ],
      "metadata": {
        "id": "0txOuMLBjl75"
      }
    }
  ]
}